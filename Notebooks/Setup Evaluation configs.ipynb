{
 "cells": [
  {
   "cell_type": "code",
   "execution_count": 1,
   "id": "468b9e35",
   "metadata": {},
   "outputs": [],
   "source": [
    "import pandas as pd\n",
    "import numpy as np"
   ]
  },
  {
   "cell_type": "code",
   "execution_count": null,
   "id": "1052e716",
   "metadata": {},
   "outputs": [],
   "source": [
    "config_params = {\n",
    "    'model_re':['FCN','CNN','LSTM','TAE'],\n",
    "    'model_cluster':['DCN'],\n",
    "    'num_epochs_ae':[100],\n",
    "    'num_epochs_cluster':[100],\n",
    "    ''\n",
    "    \n",
    "}"
   ]
  }
 ],
 "metadata": {
  "kernelspec": {
   "display_name": "Python 3 (ipykernel)",
   "language": "python",
   "name": "python3"
  },
  "language_info": {
   "codemirror_mode": {
    "name": "ipython",
    "version": 3
   },
   "file_extension": ".py",
   "mimetype": "text/x-python",
   "name": "python",
   "nbconvert_exporter": "python",
   "pygments_lexer": "ipython3",
   "version": "3.9.12"
  }
 },
 "nbformat": 4,
 "nbformat_minor": 5
}
