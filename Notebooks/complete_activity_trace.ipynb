{
 "cells": [
  {
   "cell_type": "code",
   "execution_count": 1,
   "metadata": {
    "collapsed": true,
    "jupyter": {
     "outputs_hidden": true
    },
    "pycharm": {
     "name": "#%%\n"
    }
   },
   "outputs": [],
   "source": [
    "import numpy as np\n",
    "import pandas as pd\n",
    "import scipy.stats\n",
    "\n",
    "pd.options.mode.chained_assignment = None\n",
    "from matplotlib import pyplot as plt, rcParams\n",
    "# import cv2\n",
    "import seaborn as sns\n",
    "\n",
    "sns.set(style=\"white\", context=\"paper\")\n",
    "from cycler import cycler\n",
    "import os, sys\n",
    "import glob\n",
    "from datetime import datetime, timedelta\n",
    "from itertools import combinations\n",
    "import base64\n",
    "from PIL import Image\n",
    "from io import BytesIO as _BytesIO\n",
    "import requests\n",
    "import json\n",
    "import pickle\n",
    "from datetime import datetime\n",
    "from IPython.display import display, Markdown, Latex\n",
    "from sklearn.metrics import *\n",
    "import collections\n",
    "from copy import deepcopy\n",
    "pd.options.display.max_columns = None\n",
    "def printm(s): return display(Markdown(s))\n"
   ]
  },
  {
   "cell_type": "code",
   "execution_count": 2,
   "metadata": {
    "collapsed": false,
    "jupyter": {
     "outputs_hidden": false
    },
    "pycharm": {
     "name": "#%%\n"
    }
   },
   "outputs": [
    {
     "data": {
      "text/plain": [
       "dict_keys(['csh101', 'csh102', 'csh103', 'csh104', 'csh105', 'csh106', 'csh107', 'csh108', 'csh109', 'csh110', 'csh111', 'csh112', 'csh113', 'csh114', 'csh115', 'csh116', 'csh117', 'csh118', 'csh119', 'csh120', 'csh121', 'csh122', 'csh123', 'csh124', 'csh125', 'csh126', 'csh127', 'csh128', 'csh129', 'csh130'])"
      ]
     },
     "execution_count": 2,
     "metadata": {},
     "output_type": "execute_result"
    }
   ],
   "source": [
    "casas_dict = pickle.load(open(\"../cache/casas_prediction_requests.pb\",'rb'))\n",
    "casas_dict.keys()"
   ]
  },
  {
   "cell_type": "code",
   "execution_count": 3,
   "metadata": {
    "collapsed": false,
    "jupyter": {
     "outputs_hidden": false
    },
    "pycharm": {
     "name": "#%%\n"
    }
   },
   "outputs": [
    {
     "name": "stdout",
     "output_type": "stream",
     "text": [
      "<class 'pandas.core.frame.DataFrame'>\n",
      "Int64Index: 321457 entries, 0 to 321456\n",
      "Data columns (total 2 columns):\n",
      " #   Column      Non-Null Count   Dtype  \n",
      "---  ------      --------------   -----  \n",
      " 0   timestamp   321457 non-null  float64\n",
      " 1   activities  321457 non-null  object \n",
      "dtypes: float64(1), object(1)\n",
      "memory usage: 7.4+ MB\n"
     ]
    },
    {
     "data": {
      "text/html": [
       "<div>\n",
       "<style scoped>\n",
       "    .dataframe tbody tr th:only-of-type {\n",
       "        vertical-align: middle;\n",
       "    }\n",
       "\n",
       "    .dataframe tbody tr th {\n",
       "        vertical-align: top;\n",
       "    }\n",
       "\n",
       "    .dataframe thead th {\n",
       "        text-align: right;\n",
       "    }\n",
       "</style>\n",
       "<table border=\"1\" class=\"dataframe\">\n",
       "  <thead>\n",
       "    <tr style=\"text-align: right;\">\n",
       "      <th>activity_name</th>\n",
       "      <th>timestamp</th>\n",
       "      <th>activities</th>\n",
       "    </tr>\n",
       "  </thead>\n",
       "  <tbody>\n",
       "    <tr>\n",
       "      <th>0</th>\n",
       "      <td>1.342781e+09</td>\n",
       "      <td>Step_Out</td>\n",
       "    </tr>\n",
       "    <tr>\n",
       "      <th>1</th>\n",
       "      <td>1.342781e+09</td>\n",
       "      <td>Step_Out</td>\n",
       "    </tr>\n",
       "    <tr>\n",
       "      <th>2</th>\n",
       "      <td>1.342781e+09</td>\n",
       "      <td>Step_Out</td>\n",
       "    </tr>\n",
       "    <tr>\n",
       "      <th>3</th>\n",
       "      <td>1.342781e+09</td>\n",
       "      <td>Step_Out</td>\n",
       "    </tr>\n",
       "    <tr>\n",
       "      <th>4</th>\n",
       "      <td>1.342781e+09</td>\n",
       "      <td>Step_Out</td>\n",
       "    </tr>\n",
       "  </tbody>\n",
       "</table>\n",
       "</div>"
      ],
      "text/plain": [
       "activity_name     timestamp activities\n",
       "0              1.342781e+09   Step_Out\n",
       "1              1.342781e+09   Step_Out\n",
       "2              1.342781e+09   Step_Out\n",
       "3              1.342781e+09   Step_Out\n",
       "4              1.342781e+09   Step_Out"
      ]
     },
     "execution_count": 3,
     "metadata": {},
     "output_type": "execute_result"
    }
   ],
   "source": [
    "casas_dict['csh101'].info()\n",
    "casas_dict['csh101'].head()"
   ]
  },
  {
   "cell_type": "code",
   "execution_count": 5,
   "metadata": {
    "collapsed": false,
    "jupyter": {
     "outputs_hidden": false
    },
    "pycharm": {
     "name": "#%%\n"
    }
   },
   "outputs": [],
   "source": [
    "key='csh101'\n"
   ]
  },
  {
   "cell_type": "code",
   "execution_count": 13,
   "metadata": {
    "collapsed": false,
    "jupyter": {
     "outputs_hidden": false
    },
    "pycharm": {
     "name": "#%%\n"
    }
   },
   "outputs": [],
   "source": [
    "df_key = casas_dict[key].copy(deep=True)"
   ]
  },
  {
   "cell_type": "code",
   "execution_count": 18,
   "metadata": {
    "collapsed": false,
    "jupyter": {
     "outputs_hidden": false
    },
    "pycharm": {
     "name": "#%%\n"
    }
   },
   "outputs": [
    {
     "data": {
      "text/plain": [
       "1347925995"
      ]
     },
     "execution_count": 18,
     "metadata": {},
     "output_type": "execute_result"
    }
   ],
   "source": [
    "df_key.timestamp = df_key.timestamp.astype(int)\n",
    "df_key.timestamp.max()"
   ]
  },
  {
   "cell_type": "code",
   "execution_count": 19,
   "metadata": {
    "collapsed": false,
    "jupyter": {
     "outputs_hidden": false
    },
    "pycharm": {
     "name": "#%%\n"
    }
   },
   "outputs": [
    {
     "data": {
      "text/html": [
       "<div>\n",
       "<style scoped>\n",
       "    .dataframe tbody tr th:only-of-type {\n",
       "        vertical-align: middle;\n",
       "    }\n",
       "\n",
       "    .dataframe tbody tr th {\n",
       "        vertical-align: top;\n",
       "    }\n",
       "\n",
       "    .dataframe thead tr th {\n",
       "        text-align: left;\n",
       "    }\n",
       "</style>\n",
       "<table border=\"1\" class=\"dataframe\">\n",
       "  <thead>\n",
       "    <tr>\n",
       "      <th></th>\n",
       "      <th>timestamp</th>\n",
       "      <th>activities</th>\n",
       "    </tr>\n",
       "    <tr>\n",
       "      <th></th>\n",
       "      <th></th>\n",
       "      <th>&lt;lambda&gt;</th>\n",
       "    </tr>\n",
       "  </thead>\n",
       "  <tbody>\n",
       "    <tr>\n",
       "      <th>0</th>\n",
       "      <td>1342780734</td>\n",
       "      <td>Step_Out</td>\n",
       "    </tr>\n",
       "    <tr>\n",
       "      <th>1</th>\n",
       "      <td>1342780737</td>\n",
       "      <td>Step_Out</td>\n",
       "    </tr>\n",
       "    <tr>\n",
       "      <th>2</th>\n",
       "      <td>1342780738</td>\n",
       "      <td>Step_Out</td>\n",
       "    </tr>\n",
       "    <tr>\n",
       "      <th>3</th>\n",
       "      <td>1342780739</td>\n",
       "      <td>Step_Out</td>\n",
       "    </tr>\n",
       "    <tr>\n",
       "      <th>4</th>\n",
       "      <td>1342780742</td>\n",
       "      <td>Step_Out</td>\n",
       "    </tr>\n",
       "  </tbody>\n",
       "</table>\n",
       "</div>"
      ],
      "text/plain": [
       "    timestamp activities\n",
       "                <lambda>\n",
       "0  1342780734   Step_Out\n",
       "1  1342780737   Step_Out\n",
       "2  1342780738   Step_Out\n",
       "3  1342780739   Step_Out\n",
       "4  1342780742   Step_Out"
      ]
     },
     "execution_count": 19,
     "metadata": {},
     "output_type": "execute_result"
    }
   ],
   "source": [
    "df_key = df_key.groupby('timestamp',as_index=False).agg({'activities':[lambda x: ','.join(np.unique(list(x)).tolist())]})\n",
    "df_key.head()\n"
   ]
  },
  {
   "cell_type": "code",
   "execution_count": 20,
   "metadata": {
    "collapsed": false,
    "jupyter": {
     "outputs_hidden": false
    },
    "pycharm": {
     "name": "#%%\n"
    }
   },
   "outputs": [
    {
     "data": {
      "text/plain": [
       "array(['Step_Out', 'Other_Activity', 'Other_Activity,Toilet', 'Toilet',\n",
       "       'Phone', 'Other_Activity,Personal_Hygiene', 'Personal_Hygiene',\n",
       "       'Leave_Home', 'Enter_Home', 'Relax',\n",
       "       'Other_Activity,Sleep_Out_Of_Bed', 'Sleep_Out_Of_Bed',\n",
       "       'Leave_Home,Other_Activity', 'Enter_Home,Other_Activity',\n",
       "       'Other_Activity,Relax', 'Drink,Other_Activity', 'Drink',\n",
       "       'Other_Activity,Watch_TV', 'Watch_TV', 'Dress',\n",
       "       'Evening_Meds,Other_Activity', 'Evening_Meds', 'Wake_Up', 'Read',\n",
       "       'Morning_Meds,Other_Activity', 'Morning_Meds',\n",
       "       'Other_Activity,Read', 'Dress,Other_Activity',\n",
       "       'Cook_Breakfast,Other_Activity', 'Cook_Breakfast', 'Eat_Breakfast',\n",
       "       'Bathe', 'Other_Activity,Phone', 'Other_Activity,Step_Out',\n",
       "       'Cook_Lunch,Other_Activity', 'Cook_Lunch',\n",
       "       'Eat_Lunch,Other_Activity', 'Eat_Lunch', 'Wash_Lunch_Dishes',\n",
       "       'Go_To_Sleep,Other_Activity', 'Go_To_Sleep', 'Sleep',\n",
       "       'Other_Activity,Sleep', 'Bed_Toilet_Transition,Other_Activity',\n",
       "       'Bed_Toilet_Transition', 'Other_Activity,Wake_Up',\n",
       "       'Wash_Breakfast_Dishes', 'Other_Activity,Wash_Breakfast_Dishes',\n",
       "       'Work_At_Table', 'Groom,Other_Activity', 'Groom',\n",
       "       'Cook,Other_Activity', 'Cook', 'Eat,Other_Activity', 'Eat',\n",
       "       'Eat_Breakfast,Other_Activity', 'Bathe,Groom,Other_Activity',\n",
       "       'Cook_Dinner,Other_Activity', 'Cook_Dinner', 'Eat_Dinner',\n",
       "       'Eat_Dinner,Other_Activity', 'Other_Activity,Wash_Dinner_Dishes',\n",
       "       'Wash_Dinner_Dishes', 'Bathe,Other_Activity',\n",
       "       'Enter_Home,Other_Activity,Personal_Hygiene',\n",
       "       'Dress,Other_Activity,Toilet', 'Other_Activity,Wash_Dishes',\n",
       "       'Wash_Dishes', 'Sleep,Wake_Up', 'Leave_Home,Other_Activity,Toilet',\n",
       "       'Personal_Hygiene,Step_Out', 'Groom,Leave_Home,Other_Activity',\n",
       "       'Sleep_Out_Of_Bed,Watch_TV', 'Go_To_Sleep,Sleep',\n",
       "       'Dress,Other_Activity,Personal_Hygiene', 'Read,Sleep_Out_Of_Bed',\n",
       "       'Evening_Meds,Wash_Dinner_Dishes', 'Other_Activity,Sleep,Wake_Up',\n",
       "       'Enter_Home,Watch_TV', 'Dress,Toilet', 'Toilet,Wake_Up',\n",
       "       'Other_Activity,Wash_Lunch_Dishes', 'Dress,Groom,Other_Activity',\n",
       "       'Other_Activity,Step_Out,Toilet', 'Cook,Evening_Meds',\n",
       "       'Dress,Groom', 'Entertain_Guests',\n",
       "       'Entertain_Guests,Other_Activity', 'Evening_Meds,Wash_Dishes',\n",
       "       'Other_Activity,Work_At_Table', 'Dress,Personal_Hygiene'],\n",
       "      dtype=object)"
      ]
     },
     "execution_count": 20,
     "metadata": {},
     "output_type": "execute_result"
    }
   ],
   "source": [
    "df_key.columns = ['timestamp','activities']\n",
    "df_key.activities.unique()"
   ]
  },
  {
   "cell_type": "code",
   "execution_count": 21,
   "metadata": {
    "collapsed": false,
    "jupyter": {
     "outputs_hidden": false
    },
    "pycharm": {
     "name": "#%%\n"
    }
   },
   "outputs": [
    {
     "name": "stdout",
     "output_type": "stream",
     "text": [
      "Done : csh101\n",
      "Done : csh102\n",
      "Done : csh103\n",
      "Done : csh104\n",
      "Done : csh105\n",
      "Done : csh106\n",
      "Done : csh107\n",
      "Done : csh108\n",
      "Done : csh109\n",
      "Done : csh110\n",
      "Done : csh111\n",
      "Done : csh112\n",
      "Done : csh113\n",
      "Done : csh114\n",
      "Done : csh115\n",
      "Done : csh116\n",
      "Done : csh117\n",
      "Done : csh118\n",
      "Done : csh119\n",
      "Done : csh120\n",
      "Done : csh121\n",
      "Done : csh122\n",
      "Done : csh123\n",
      "Done : csh124\n",
      "Done : csh125\n",
      "Done : csh126\n",
      "Done : csh127\n",
      "Done : csh128\n",
      "Done : csh129\n",
      "Done : csh130\n"
     ]
    }
   ],
   "source": [
    "for key in casas_dict.keys():\n",
    "    casas_dict[key].timestamp = casas_dict[key].timestamp.astype(int)\n",
    "    casas_dict[key] = casas_dict[key].groupby('timestamp',as_index=False).agg({'activities':[lambda x: ','.join(np.unique(list(x)).tolist())]})\n",
    "    casas_dict[key].columns = ['timestamp','activities']\n",
    "    print(\"Done\",\":\",key)"
   ]
  },
  {
   "cell_type": "code",
   "execution_count": 22,
   "metadata": {
    "collapsed": false,
    "jupyter": {
     "outputs_hidden": false
    },
    "pycharm": {
     "name": "#%%\n"
    }
   },
   "outputs": [
    {
     "name": "stdout",
     "output_type": "stream",
     "text": [
      "Done:  csh101\n",
      "Done:  csh102\n",
      "Done:  csh103\n",
      "Done:  csh104\n",
      "Done:  csh105\n",
      "Done:  csh106\n",
      "Done:  csh107\n",
      "Done:  csh108\n",
      "Done:  csh109\n",
      "Done:  csh110\n",
      "Done:  csh111\n",
      "Done:  csh112\n",
      "Done:  csh113\n",
      "Done:  csh114\n",
      "Done:  csh115\n",
      "Done:  csh116\n",
      "Done:  csh117\n",
      "Done:  csh118\n",
      "Done:  csh119\n",
      "Done:  csh120\n",
      "Done:  csh121\n",
      "Done:  csh122\n",
      "Done:  csh123\n",
      "Done:  csh124\n",
      "Done:  csh125\n",
      "Done:  csh126\n",
      "Done:  csh127\n",
      "Done:  csh128\n",
      "Done:  csh129\n",
      "Done:  csh130\n"
     ]
    }
   ],
   "source": [
    "df_all_casas = None\n",
    "for key in casas_dict.keys():\n",
    "    casas_dict[key]['id']= key\n",
    "    if df_all_casas is None:\n",
    "        df_all_casas = casas_dict[key].copy(deep=True)\n",
    "    else:\n",
    "        df_all_casas = pd.concat([df_all_casas, casas_dict[key]],ignore_index=False)\n",
    "    print(\"Done: \", key)"
   ]
  },
  {
   "cell_type": "code",
   "execution_count": 23,
   "metadata": {
    "collapsed": false,
    "jupyter": {
     "outputs_hidden": false
    },
    "pycharm": {
     "name": "#%%\n"
    }
   },
   "outputs": [
    {
     "name": "stdout",
     "output_type": "stream",
     "text": [
      "<class 'pandas.core.frame.DataFrame'>\n",
      "Int64Index: 10256846 entries, 0 to 111858\n",
      "Data columns (total 3 columns):\n",
      " #   Column      Dtype \n",
      "---  ------      ----- \n",
      " 0   timestamp   int64 \n",
      " 1   activities  object\n",
      " 2   id          object\n",
      "dtypes: int64(1), object(2)\n",
      "memory usage: 313.0+ MB\n"
     ]
    }
   ],
   "source": [
    "df_all_casas.info()"
   ]
  },
  {
   "cell_type": "code",
   "execution_count": 40,
   "metadata": {
    "collapsed": false,
    "jupyter": {
     "outputs_hidden": false
    },
    "pycharm": {
     "name": "#%%\n"
    }
   },
   "outputs": [
    {
     "data": {
      "text/plain": [
       "timestamp  <lambda>    2394\n",
       "dtype: int64"
      ]
     },
     "execution_count": 40,
     "metadata": {},
     "output_type": "execute_result"
    }
   ],
   "source": [
    "df_all_casas.groupby('id').agg({'timestamp':[lambda x:pd.to_datetime(x,unit='s').dt.date.nunique()]}).sum()\n"
   ]
  },
  {
   "cell_type": "code",
   "execution_count": 24,
   "metadata": {
    "collapsed": false,
    "jupyter": {
     "outputs_hidden": false
    },
    "pycharm": {
     "name": "#%%\n"
    }
   },
   "outputs": [],
   "source": [
    "df_all_casas.to_csv(\"../cache/casas_complete_trace.csv\",index=False)"
   ]
  },
  {
   "cell_type": "code",
   "execution_count": 25,
   "metadata": {
    "collapsed": false,
    "jupyter": {
     "outputs_hidden": false
    },
    "pycharm": {
     "name": "#%%\n"
    }
   },
   "outputs": [
    {
     "data": {
      "text/plain": [
       "dict_keys(['00EABED2-271D-49D8-B599-1D4A09240601', '098A72A5-E3E5-4F54-A152-BBDA0DF7B694', '0A986513-7828-4D53-AA1F-E02D6DF9561B', '0BFC35E2-4817-4865-BFA7-764742302A2D', '0E6184E1-90C0-48EE-B25A-F1ECB7B9714E', '1155FF54-63D3-4AB2-9863-8385D0BD0A13', '11B5EC4D-4133-4289-B475-4E737182A406', '136562B6-95B2-483D-88DC-065F28409FD2', '1538C99F-BA1E-4EFB-A949-6C7C47701B20', '1DBB0F6F-1F81-4A50-9DF4-CD62ACFA4842', '24E40C4C-A349-4F9F-93AB-01D00FB994AF', '27E04243-B138-4F40-A164-F40B60165CF3', '2C32C23E-E30C-498A-8DD2-0EFB9150A02E', '33A85C34-CFE4-4732-9E73-0A7AC861B27A', '3600D531-0C55-44A7-AE95-A7A38519464E', '40E170A7-607B-4578-AF04-F021C3B0384A', '481F4DD2-7689-43B9-A2AA-C8772227162B', '4E98F91F-4654-42EF-B908-A3389443F2E7', '4FC32141-E888-4BFF-8804-12559A491D8C', '5119D0F8-FCA8-4184-A4EB-19421A40DE0D', '5152A2DF-FAF3-4BA8-9CA9-E66B32671A53', '59818CD2-24D7-4D32-B133-24C2FE3801E5', '59EEFAE0-DEB0-4FFF-9250-54D2A03D0CF2', '5EF64122-B513-46AE-BCF1-E62AAC285D2C', '61359772-D8D8-480D-B623-7C636EAD0C81', '61976C24-1C50-4355-9C49-AAE44A7D09F6', '665514DE-49DC-421F-8DCB-145D0B2609AD', '74B86067-5D4B-43CF-82CF-341B76BEA0F4', '78A91A4E-4A51-4065-BDA7-94755F0BB3BB', '797D145F-3858-4A7F-A7C2-A4EB721E133C', '7CE37510-56D0-4120-A1CF-0E23351428D2', '7D9BB102-A612-4E2A-8E22-3159752F55D8', '8023FE1A-D3B0-4E2C-A57A-9321B7FC755F', '806289BC-AD52-4CC1-806C-0CDB14D65EB6', '81536B0A-8DBF-4D8A-AC24-9543E2E4C8E0', '83CF687B-7CEC-434B-9FE8-00C3D5799BE6', '86A4F379-B305-473D-9D83-FC7D800180EF', '96A358A0-FFF2-4239-B93E-C7425B901B47', '9759096F-1119-4E19-A0AD-6F16989C7E1C', '99B204C0-DD5C-4BB7-83E8-A37281B8D769', '9DC38D04-E82E-4F29-AB52-B476535226F2', 'A5A30F76-581E-4757-97A2-957553A2C6AA', 'A5CDF89D-02A2-4EC1-89F8-F534FDABDD96', 'A7599A50-24AE-46A6-8EA6-2576F1011D81', 'A76A5AF5-5A93-4CF2-A16E-62353BB70E8A', 'B09E373F-8A54-44C8-895B-0039390B859F', 'B7F9D634-263E-4A97-87F9-6FFB4DDCB36C', 'B9724848-C7E2-45F4-9B3F-A1F38D864495', 'BE3CA5A6-A561-4BBD-B7C9-5DF6805400FC', 'BEF6C611-50DA-4971-A040-87FB979F3FC1', 'C48CE857-A0DD-4DDB-BEA5-3A25449B2153', 'CA820D43-E5E2-42EF-9798-BE56F776370B', 'CCAF77F0-FABB-4F2F-9E24-D56AD0C5A82F', 'CDA3BBF7-6631-45E8-85BA-EEB416B32A3C', 'CF722AA9-2533-4E51-9FEB-9EAC84EE9AAC', 'D7D20E2E-FC78-405D-B346-DBD3FD8FC92B', 'E65577C1-8D5D-4F70-AF23-B3ADB9D3DBA3', 'ECECC2AB-D32F-4F90-B74C-E12A1C69BBE2', 'F50235E0-DD67-4F2A-B00B-1F31ADA998B9', 'FDAA70A1-42A3-4E3F-9AE3-3FDA412E03BF'])"
      ]
     },
     "execution_count": 25,
     "metadata": {},
     "output_type": "execute_result"
    }
   ],
   "source": [
    "extra_dict = pickle.load(open(\"../cache/extrasensory_prediction_requests.pb\",'rb'))\n",
    "extra_dict.keys()"
   ]
  },
  {
   "cell_type": "code",
   "execution_count": 28,
   "metadata": {
    "collapsed": false,
    "jupyter": {
     "outputs_hidden": false
    },
    "pycharm": {
     "name": "#%%\n"
    }
   },
   "outputs": [
    {
     "data": {
      "text/html": [
       "<div>\n",
       "<style scoped>\n",
       "    .dataframe tbody tr th:only-of-type {\n",
       "        vertical-align: middle;\n",
       "    }\n",
       "\n",
       "    .dataframe tbody tr th {\n",
       "        vertical-align: top;\n",
       "    }\n",
       "\n",
       "    .dataframe thead th {\n",
       "        text-align: right;\n",
       "    }\n",
       "</style>\n",
       "<table border=\"1\" class=\"dataframe\">\n",
       "  <thead>\n",
       "    <tr style=\"text-align: right;\">\n",
       "      <th>activity_name</th>\n",
       "      <th>timestamp</th>\n",
       "      <th>activities</th>\n",
       "    </tr>\n",
       "  </thead>\n",
       "  <tbody>\n",
       "    <tr>\n",
       "      <th>21129</th>\n",
       "      <td>1.464130e+09</td>\n",
       "      <td>Sitting,Talking,With co-workers</td>\n",
       "    </tr>\n",
       "    <tr>\n",
       "      <th>21130</th>\n",
       "      <td>1.464130e+09</td>\n",
       "      <td>Sitting,Talking,With co-workers</td>\n",
       "    </tr>\n",
       "    <tr>\n",
       "      <th>21131</th>\n",
       "      <td>1.464130e+09</td>\n",
       "      <td>Sitting,Talking,With co-workers</td>\n",
       "    </tr>\n",
       "    <tr>\n",
       "      <th>21132</th>\n",
       "      <td>1.464130e+09</td>\n",
       "      <td>Sitting,Talking,With co-workers</td>\n",
       "    </tr>\n",
       "    <tr>\n",
       "      <th>21133</th>\n",
       "      <td>1.464130e+09</td>\n",
       "      <td>Sitting,Talking,With co-workers</td>\n",
       "    </tr>\n",
       "  </tbody>\n",
       "</table>\n",
       "</div>"
      ],
      "text/plain": [
       "activity_name     timestamp                       activities\n",
       "21129          1.464130e+09  Sitting,Talking,With co-workers\n",
       "21130          1.464130e+09  Sitting,Talking,With co-workers\n",
       "21131          1.464130e+09  Sitting,Talking,With co-workers\n",
       "21132          1.464130e+09  Sitting,Talking,With co-workers\n",
       "21133          1.464130e+09  Sitting,Talking,With co-workers"
      ]
     },
     "execution_count": 28,
     "metadata": {},
     "output_type": "execute_result"
    }
   ],
   "source": [
    "extra_dict['1155FF54-63D3-4AB2-9863-8385D0BD0A13'].head()"
   ]
  },
  {
   "cell_type": "code",
   "execution_count": 29,
   "metadata": {
    "collapsed": false,
    "jupyter": {
     "outputs_hidden": false
    },
    "pycharm": {
     "name": "#%%\n"
    }
   },
   "outputs": [
    {
     "name": "stdout",
     "output_type": "stream",
     "text": [
      "Done:  00EABED2-271D-49D8-B599-1D4A09240601\n",
      "Done:  098A72A5-E3E5-4F54-A152-BBDA0DF7B694\n",
      "Done:  0A986513-7828-4D53-AA1F-E02D6DF9561B\n",
      "Done:  0BFC35E2-4817-4865-BFA7-764742302A2D\n",
      "Done:  0E6184E1-90C0-48EE-B25A-F1ECB7B9714E\n",
      "Done:  1155FF54-63D3-4AB2-9863-8385D0BD0A13\n",
      "Done:  11B5EC4D-4133-4289-B475-4E737182A406\n",
      "Done:  136562B6-95B2-483D-88DC-065F28409FD2\n",
      "Done:  1538C99F-BA1E-4EFB-A949-6C7C47701B20\n",
      "Done:  1DBB0F6F-1F81-4A50-9DF4-CD62ACFA4842\n",
      "Done:  24E40C4C-A349-4F9F-93AB-01D00FB994AF\n",
      "Done:  27E04243-B138-4F40-A164-F40B60165CF3\n",
      "Done:  2C32C23E-E30C-498A-8DD2-0EFB9150A02E\n",
      "Done:  33A85C34-CFE4-4732-9E73-0A7AC861B27A\n",
      "Done:  3600D531-0C55-44A7-AE95-A7A38519464E\n",
      "Done:  40E170A7-607B-4578-AF04-F021C3B0384A\n",
      "Done:  481F4DD2-7689-43B9-A2AA-C8772227162B\n",
      "Done:  4E98F91F-4654-42EF-B908-A3389443F2E7\n",
      "Done:  4FC32141-E888-4BFF-8804-12559A491D8C\n",
      "Done:  5119D0F8-FCA8-4184-A4EB-19421A40DE0D\n",
      "Done:  5152A2DF-FAF3-4BA8-9CA9-E66B32671A53\n",
      "Done:  59818CD2-24D7-4D32-B133-24C2FE3801E5\n",
      "Done:  59EEFAE0-DEB0-4FFF-9250-54D2A03D0CF2\n",
      "Done:  5EF64122-B513-46AE-BCF1-E62AAC285D2C\n",
      "Done:  61359772-D8D8-480D-B623-7C636EAD0C81\n",
      "Done:  61976C24-1C50-4355-9C49-AAE44A7D09F6\n",
      "Done:  665514DE-49DC-421F-8DCB-145D0B2609AD\n",
      "Done:  74B86067-5D4B-43CF-82CF-341B76BEA0F4\n",
      "Done:  78A91A4E-4A51-4065-BDA7-94755F0BB3BB\n",
      "Done:  797D145F-3858-4A7F-A7C2-A4EB721E133C\n",
      "Done:  7CE37510-56D0-4120-A1CF-0E23351428D2\n",
      "Done:  7D9BB102-A612-4E2A-8E22-3159752F55D8\n",
      "Done:  8023FE1A-D3B0-4E2C-A57A-9321B7FC755F\n",
      "Done:  806289BC-AD52-4CC1-806C-0CDB14D65EB6\n",
      "Done:  81536B0A-8DBF-4D8A-AC24-9543E2E4C8E0\n",
      "Done:  83CF687B-7CEC-434B-9FE8-00C3D5799BE6\n",
      "Done:  86A4F379-B305-473D-9D83-FC7D800180EF\n",
      "Done:  96A358A0-FFF2-4239-B93E-C7425B901B47\n",
      "Done:  9759096F-1119-4E19-A0AD-6F16989C7E1C\n",
      "Done:  99B204C0-DD5C-4BB7-83E8-A37281B8D769\n",
      "Done:  9DC38D04-E82E-4F29-AB52-B476535226F2\n",
      "Done:  A5A30F76-581E-4757-97A2-957553A2C6AA\n",
      "Done:  A5CDF89D-02A2-4EC1-89F8-F534FDABDD96\n",
      "Done:  A7599A50-24AE-46A6-8EA6-2576F1011D81\n",
      "Done:  A76A5AF5-5A93-4CF2-A16E-62353BB70E8A\n",
      "Done:  B09E373F-8A54-44C8-895B-0039390B859F\n",
      "Done:  B7F9D634-263E-4A97-87F9-6FFB4DDCB36C\n",
      "Done:  B9724848-C7E2-45F4-9B3F-A1F38D864495\n",
      "Done:  BE3CA5A6-A561-4BBD-B7C9-5DF6805400FC\n",
      "Done:  BEF6C611-50DA-4971-A040-87FB979F3FC1\n",
      "Done:  C48CE857-A0DD-4DDB-BEA5-3A25449B2153\n",
      "Done:  CA820D43-E5E2-42EF-9798-BE56F776370B\n",
      "Done:  CCAF77F0-FABB-4F2F-9E24-D56AD0C5A82F\n",
      "Done:  CDA3BBF7-6631-45E8-85BA-EEB416B32A3C\n",
      "Done:  CF722AA9-2533-4E51-9FEB-9EAC84EE9AAC\n",
      "Done:  D7D20E2E-FC78-405D-B346-DBD3FD8FC92B\n",
      "Done:  E65577C1-8D5D-4F70-AF23-B3ADB9D3DBA3\n",
      "Done:  ECECC2AB-D32F-4F90-B74C-E12A1C69BBE2\n",
      "Done:  F50235E0-DD67-4F2A-B00B-1F31ADA998B9\n",
      "Done:  FDAA70A1-42A3-4E3F-9AE3-3FDA412E03BF\n"
     ]
    }
   ],
   "source": [
    "df_all_extra = None\n",
    "for key in extra_dict.keys():\n",
    "    extra_dict[key]['timestamp']= extra_dict[key]['timestamp'].astype(int)\n",
    "    extra_dict[key]['id']= key\n",
    "    if df_all_extra is None:\n",
    "        df_all_extra = extra_dict[key].copy(deep=True)\n",
    "    else:\n",
    "        df_all_extra = pd.concat([df_all_extra, extra_dict[key]],ignore_index=False)\n",
    "    print(\"Done: \", key)"
   ]
  },
  {
   "cell_type": "code",
   "execution_count": 30,
   "metadata": {
    "collapsed": false,
    "jupyter": {
     "outputs_hidden": false
    },
    "pycharm": {
     "name": "#%%\n"
    }
   },
   "outputs": [],
   "source": [
    "df_all_extra.to_csv(\"../cache/extrasensory_complete_trace.csv\",index=False)"
   ]
  },
  {
   "cell_type": "code",
   "execution_count": 41,
   "metadata": {
    "collapsed": false,
    "jupyter": {
     "outputs_hidden": false
    },
    "pycharm": {
     "name": "#%%\n"
    }
   },
   "outputs": [
    {
     "data": {
      "text/plain": [
       "activity_name          \n",
       "timestamp      <lambda>    471\n",
       "dtype: int64"
      ]
     },
     "execution_count": 41,
     "metadata": {},
     "output_type": "execute_result"
    }
   ],
   "source": [
    "df_all_extra.groupby('id').agg({'timestamp':[lambda x:pd.to_datetime(x,unit='s').dt.date.nunique()]}).sum()\n"
   ]
  },
  {
   "cell_type": "code",
   "execution_count": 32,
   "metadata": {
    "collapsed": false,
    "jupyter": {
     "outputs_hidden": false
    },
    "pycharm": {
     "name": "#%%\n"
    }
   },
   "outputs": [
    {
     "name": "stdout",
     "output_type": "stream",
     "text": [
      "<class 'pandas.core.frame.DataFrame'>\n",
      "Int64Index: 307534 entries, 0 to 307533\n",
      "Data columns (total 3 columns):\n",
      " #   Column      Non-Null Count   Dtype \n",
      "---  ------      --------------   ----- \n",
      " 0   timestamp   307534 non-null  int64 \n",
      " 1   activities  307534 non-null  object\n",
      " 2   id          307534 non-null  object\n",
      "dtypes: int64(1), object(2)\n",
      "memory usage: 9.4+ MB\n"
     ]
    }
   ],
   "source": [
    "df_all_extra.info()"
   ]
  },
  {
   "cell_type": "code",
   "execution_count": 33,
   "metadata": {
    "collapsed": false,
    "jupyter": {
     "outputs_hidden": false
    },
    "pycharm": {
     "name": "#%%\n"
    }
   },
   "outputs": [
    {
     "data": {
      "text/html": [
       "<div>\n",
       "<style scoped>\n",
       "    .dataframe tbody tr th:only-of-type {\n",
       "        vertical-align: middle;\n",
       "    }\n",
       "\n",
       "    .dataframe tbody tr th {\n",
       "        vertical-align: top;\n",
       "    }\n",
       "\n",
       "    .dataframe thead th {\n",
       "        text-align: right;\n",
       "    }\n",
       "</style>\n",
       "<table border=\"1\" class=\"dataframe\">\n",
       "  <thead>\n",
       "    <tr style=\"text-align: right;\">\n",
       "      <th>activity_name</th>\n",
       "      <th>timestamp</th>\n",
       "      <th>activities</th>\n",
       "      <th>id</th>\n",
       "    </tr>\n",
       "  </thead>\n",
       "  <tbody>\n",
       "    <tr>\n",
       "      <th>0</th>\n",
       "      <td>1444079161</td>\n",
       "      <td>Sitting,In a meeting,With co-workers</td>\n",
       "      <td>00EABED2-271D-49D8-B599-1D4A09240601</td>\n",
       "    </tr>\n",
       "    <tr>\n",
       "      <th>1</th>\n",
       "      <td>1444079221</td>\n",
       "      <td>Sitting,In a meeting,With co-workers</td>\n",
       "      <td>00EABED2-271D-49D8-B599-1D4A09240601</td>\n",
       "    </tr>\n",
       "    <tr>\n",
       "      <th>2</th>\n",
       "      <td>1444079281</td>\n",
       "      <td>Sitting,In a meeting,With co-workers</td>\n",
       "      <td>00EABED2-271D-49D8-B599-1D4A09240601</td>\n",
       "    </tr>\n",
       "    <tr>\n",
       "      <th>3</th>\n",
       "      <td>1444079341</td>\n",
       "      <td>Sitting,In a meeting,With co-workers</td>\n",
       "      <td>00EABED2-271D-49D8-B599-1D4A09240601</td>\n",
       "    </tr>\n",
       "    <tr>\n",
       "      <th>4</th>\n",
       "      <td>1444079431</td>\n",
       "      <td>Sitting,In a meeting,With co-workers</td>\n",
       "      <td>00EABED2-271D-49D8-B599-1D4A09240601</td>\n",
       "    </tr>\n",
       "    <tr>\n",
       "      <th>...</th>\n",
       "      <td>...</td>\n",
       "      <td>...</td>\n",
       "      <td>...</td>\n",
       "    </tr>\n",
       "    <tr>\n",
       "      <th>95</th>\n",
       "      <td>1444084892</td>\n",
       "      <td>Sitting,Computer work</td>\n",
       "      <td>00EABED2-271D-49D8-B599-1D4A09240601</td>\n",
       "    </tr>\n",
       "    <tr>\n",
       "      <th>96</th>\n",
       "      <td>1444084952</td>\n",
       "      <td>Sitting,Computer work</td>\n",
       "      <td>00EABED2-271D-49D8-B599-1D4A09240601</td>\n",
       "    </tr>\n",
       "    <tr>\n",
       "      <th>97</th>\n",
       "      <td>1444085012</td>\n",
       "      <td>Sitting,Computer work</td>\n",
       "      <td>00EABED2-271D-49D8-B599-1D4A09240601</td>\n",
       "    </tr>\n",
       "    <tr>\n",
       "      <th>98</th>\n",
       "      <td>1444085072</td>\n",
       "      <td>Sitting,Computer work</td>\n",
       "      <td>00EABED2-271D-49D8-B599-1D4A09240601</td>\n",
       "    </tr>\n",
       "    <tr>\n",
       "      <th>99</th>\n",
       "      <td>1444085132</td>\n",
       "      <td>Sitting,Computer work</td>\n",
       "      <td>00EABED2-271D-49D8-B599-1D4A09240601</td>\n",
       "    </tr>\n",
       "  </tbody>\n",
       "</table>\n",
       "<p>100 rows × 3 columns</p>\n",
       "</div>"
      ],
      "text/plain": [
       "activity_name   timestamp                            activities  \\\n",
       "0              1444079161  Sitting,In a meeting,With co-workers   \n",
       "1              1444079221  Sitting,In a meeting,With co-workers   \n",
       "2              1444079281  Sitting,In a meeting,With co-workers   \n",
       "3              1444079341  Sitting,In a meeting,With co-workers   \n",
       "4              1444079431  Sitting,In a meeting,With co-workers   \n",
       "..                    ...                                   ...   \n",
       "95             1444084892                 Sitting,Computer work   \n",
       "96             1444084952                 Sitting,Computer work   \n",
       "97             1444085012                 Sitting,Computer work   \n",
       "98             1444085072                 Sitting,Computer work   \n",
       "99             1444085132                 Sitting,Computer work   \n",
       "\n",
       "activity_name                                    id  \n",
       "0              00EABED2-271D-49D8-B599-1D4A09240601  \n",
       "1              00EABED2-271D-49D8-B599-1D4A09240601  \n",
       "2              00EABED2-271D-49D8-B599-1D4A09240601  \n",
       "3              00EABED2-271D-49D8-B599-1D4A09240601  \n",
       "4              00EABED2-271D-49D8-B599-1D4A09240601  \n",
       "..                                              ...  \n",
       "95             00EABED2-271D-49D8-B599-1D4A09240601  \n",
       "96             00EABED2-271D-49D8-B599-1D4A09240601  \n",
       "97             00EABED2-271D-49D8-B599-1D4A09240601  \n",
       "98             00EABED2-271D-49D8-B599-1D4A09240601  \n",
       "99             00EABED2-271D-49D8-B599-1D4A09240601  \n",
       "\n",
       "[100 rows x 3 columns]"
      ]
     },
     "execution_count": 33,
     "metadata": {},
     "output_type": "execute_result"
    }
   ],
   "source": [
    "df_all_extra.head(100)"
   ]
  },
  {
   "cell_type": "code",
   "execution_count": 42,
   "metadata": {
    "collapsed": false,
    "jupyter": {
     "outputs_hidden": false
    },
    "pycharm": {
     "name": "#%%\n"
    }
   },
   "outputs": [
    {
     "data": {
      "text/html": [
       "<div>\n",
       "<style scoped>\n",
       "    .dataframe tbody tr th:only-of-type {\n",
       "        vertical-align: middle;\n",
       "    }\n",
       "\n",
       "    .dataframe tbody tr th {\n",
       "        vertical-align: top;\n",
       "    }\n",
       "\n",
       "    .dataframe thead th {\n",
       "        text-align: right;\n",
       "    }\n",
       "</style>\n",
       "<table border=\"1\" class=\"dataframe\">\n",
       "  <thead>\n",
       "    <tr style=\"text-align: right;\">\n",
       "      <th></th>\n",
       "      <th>timestamp</th>\n",
       "      <th>activities</th>\n",
       "      <th>id</th>\n",
       "    </tr>\n",
       "  </thead>\n",
       "  <tbody>\n",
       "    <tr>\n",
       "      <th>0</th>\n",
       "      <td>1342780734</td>\n",
       "      <td>Step_Out</td>\n",
       "      <td>csh101</td>\n",
       "    </tr>\n",
       "    <tr>\n",
       "      <th>1</th>\n",
       "      <td>1342780737</td>\n",
       "      <td>Step_Out</td>\n",
       "      <td>csh101</td>\n",
       "    </tr>\n",
       "    <tr>\n",
       "      <th>2</th>\n",
       "      <td>1342780738</td>\n",
       "      <td>Step_Out</td>\n",
       "      <td>csh101</td>\n",
       "    </tr>\n",
       "    <tr>\n",
       "      <th>3</th>\n",
       "      <td>1342780739</td>\n",
       "      <td>Step_Out</td>\n",
       "      <td>csh101</td>\n",
       "    </tr>\n",
       "    <tr>\n",
       "      <th>4</th>\n",
       "      <td>1342780742</td>\n",
       "      <td>Step_Out</td>\n",
       "      <td>csh101</td>\n",
       "    </tr>\n",
       "  </tbody>\n",
       "</table>\n",
       "</div>"
      ],
      "text/plain": [
       "    timestamp activities      id\n",
       "0  1342780734   Step_Out  csh101\n",
       "1  1342780737   Step_Out  csh101\n",
       "2  1342780738   Step_Out  csh101\n",
       "3  1342780739   Step_Out  csh101\n",
       "4  1342780742   Step_Out  csh101"
      ]
     },
     "execution_count": 42,
     "metadata": {},
     "output_type": "execute_result"
    }
   ],
   "source": [
    "df_all_casas.head()"
   ]
  },
  {
   "cell_type": "code",
   "execution_count": 44,
   "metadata": {
    "collapsed": false,
    "jupyter": {
     "outputs_hidden": false
    },
    "pycharm": {
     "name": "#%%\n"
    }
   },
   "outputs": [
    {
     "data": {
      "text/html": [
       "<div>\n",
       "<style scoped>\n",
       "    .dataframe tbody tr th:only-of-type {\n",
       "        vertical-align: middle;\n",
       "    }\n",
       "\n",
       "    .dataframe tbody tr th {\n",
       "        vertical-align: top;\n",
       "    }\n",
       "\n",
       "    .dataframe thead th {\n",
       "        text-align: right;\n",
       "    }\n",
       "</style>\n",
       "<table border=\"1\" class=\"dataframe\">\n",
       "  <thead>\n",
       "    <tr style=\"text-align: right;\">\n",
       "      <th></th>\n",
       "      <th>timestamp</th>\n",
       "      <th>activities</th>\n",
       "      <th>id</th>\n",
       "    </tr>\n",
       "  </thead>\n",
       "  <tbody>\n",
       "    <tr>\n",
       "      <th>0</th>\n",
       "      <td>1342780734</td>\n",
       "      <td>Step_Out</td>\n",
       "      <td>csh101</td>\n",
       "    </tr>\n",
       "    <tr>\n",
       "      <th>1</th>\n",
       "      <td>1342780737</td>\n",
       "      <td>Step_Out</td>\n",
       "      <td>csh101</td>\n",
       "    </tr>\n",
       "    <tr>\n",
       "      <th>2</th>\n",
       "      <td>1342780738</td>\n",
       "      <td>Step_Out</td>\n",
       "      <td>csh101</td>\n",
       "    </tr>\n",
       "    <tr>\n",
       "      <th>3</th>\n",
       "      <td>1342780739</td>\n",
       "      <td>Step_Out</td>\n",
       "      <td>csh101</td>\n",
       "    </tr>\n",
       "    <tr>\n",
       "      <th>4</th>\n",
       "      <td>1342780742</td>\n",
       "      <td>Step_Out</td>\n",
       "      <td>csh101</td>\n",
       "    </tr>\n",
       "  </tbody>\n",
       "</table>\n",
       "</div>"
      ],
      "text/plain": [
       "    timestamp activities      id\n",
       "0  1342780734   Step_Out  csh101\n",
       "1  1342780737   Step_Out  csh101\n",
       "2  1342780738   Step_Out  csh101\n",
       "3  1342780739   Step_Out  csh101\n",
       "4  1342780742   Step_Out  csh101"
      ]
     },
     "execution_count": 44,
     "metadata": {},
     "output_type": "execute_result"
    }
   ],
   "source": [
    "df_sm_casas = df_all_casas[df_all_casas.id.isin(['csh101','csh102','csh103','csh104','csh105'])]\n",
    "df_sm_casas.head()"
   ]
  },
  {
   "cell_type": "code",
   "execution_count": 2,
   "metadata": {
    "collapsed": false,
    "jupyter": {
     "outputs_hidden": false
    },
    "pycharm": {
     "name": "#%%\n"
    }
   },
   "outputs": [
    {
     "data": {
      "text/html": [
       "<div>\n",
       "<style scoped>\n",
       "    .dataframe tbody tr th:only-of-type {\n",
       "        vertical-align: middle;\n",
       "    }\n",
       "\n",
       "    .dataframe tbody tr th {\n",
       "        vertical-align: top;\n",
       "    }\n",
       "\n",
       "    .dataframe thead th {\n",
       "        text-align: right;\n",
       "    }\n",
       "</style>\n",
       "<table border=\"1\" class=\"dataframe\">\n",
       "  <thead>\n",
       "    <tr style=\"text-align: right;\">\n",
       "      <th></th>\n",
       "      <th>id</th>\n",
       "      <th>timestamp</th>\n",
       "      <th>tao_prediction</th>\n",
       "    </tr>\n",
       "  </thead>\n",
       "  <tbody>\n",
       "    <tr>\n",
       "      <th>0</th>\n",
       "      <td>csh101</td>\n",
       "      <td>1342780734</td>\n",
       "      <td>GoingOut</td>\n",
       "    </tr>\n",
       "    <tr>\n",
       "      <th>1</th>\n",
       "      <td>csh101</td>\n",
       "      <td>1342780737</td>\n",
       "      <td>GoingOut</td>\n",
       "    </tr>\n",
       "    <tr>\n",
       "      <th>2</th>\n",
       "      <td>csh101</td>\n",
       "      <td>1342780738</td>\n",
       "      <td>GoingOut</td>\n",
       "    </tr>\n",
       "    <tr>\n",
       "      <th>3</th>\n",
       "      <td>csh101</td>\n",
       "      <td>1342780739</td>\n",
       "      <td>GoingOut</td>\n",
       "    </tr>\n",
       "    <tr>\n",
       "      <th>4</th>\n",
       "      <td>csh101</td>\n",
       "      <td>1342780742</td>\n",
       "      <td>GoingOut</td>\n",
       "    </tr>\n",
       "  </tbody>\n",
       "</table>\n",
       "</div>"
      ],
      "text/plain": [
       "       id   timestamp tao_prediction\n",
       "0  csh101  1342780734       GoingOut\n",
       "1  csh101  1342780737       GoingOut\n",
       "2  csh101  1342780738       GoingOut\n",
       "3  csh101  1342780739       GoingOut\n",
       "4  csh101  1342780742       GoingOut"
      ]
     },
     "execution_count": 2,
     "metadata": {},
     "output_type": "execute_result"
    }
   ],
   "source": [
    "df_onto_casas = pd.read_csv(\"../cache/trace_results/casas_onto_trace.csv\")\n",
    "df_onto_casas = df_onto_casas[df_onto_casas.id.isin(['csh101','csh102','csh103','csh104','csh105'])]\n",
    "df_onto_casas = df_onto_casas[['id','timestamp','tao_prediction']]\n",
    "df_onto_casas.head()"
   ]
  },
  {
   "cell_type": "code",
   "execution_count": null,
   "metadata": {
    "collapsed": false,
    "jupyter": {
     "outputs_hidden": false
    },
    "pycharm": {
     "is_executing": true,
     "name": "#%%\n"
    }
   },
   "outputs": [],
   "source": [
    "casas_tp_dict = pickle.load(open(\"../cache/trace_results/casas_temporal_trace.pb\",\"rb\"))\n"
   ]
  },
  {
   "cell_type": "code",
   "execution_count": null,
   "metadata": {
    "collapsed": false,
    "jupyter": {
     "outputs_hidden": false
    },
    "pycharm": {
     "name": "#%%\n"
    }
   },
   "outputs": [],
   "source": [
    "df_temp_casas = None\n",
    "for key in ['csh101','csh102','csh103','csh104','csh105']:\n",
    "    if df_temp_casas is None:\n",
    "        df_temp_casas = casas_tp_dict[key].copy(deep=True)\n",
    "    else:\n",
    "        df_temp_casas = pd.concat([df_temp_casas, casas_tp_dict[key]],ignore_index=True)\n",
    "df_temp_casas.head()"
   ]
  },
  {
   "cell_type": "code",
   "execution_count": null,
   "metadata": {
    "collapsed": false,
    "jupyter": {
     "outputs_hidden": false
    },
    "pycharm": {
     "name": "#%%\n"
    }
   },
   "outputs": [],
   "source": [
    "df_ctx_casas = pd.merge(df_onto_casas, df_temp_casas, on =['id','timestamp'])"
   ]
  }
 ],
 "metadata": {
  "kernelspec": {
   "display_name": "context_sensing_2",
   "language": "python",
   "name": "context_sensing_2"
  },
  "language_info": {
   "codemirror_mode": {
    "name": "ipython",
    "version": 3
   },
   "file_extension": ".py",
   "mimetype": "text/x-python",
   "name": "python",
   "nbconvert_exporter": "python",
   "pygments_lexer": "ipython3",
   "version": "3.9.13"
  }
 },
 "nbformat": 4,
 "nbformat_minor": 4
}
